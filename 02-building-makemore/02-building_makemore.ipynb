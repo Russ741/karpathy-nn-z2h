{
 "cells": [
  {
   "cell_type": "markdown",
   "id": "123d4646",
   "metadata": {},
   "source": [
    "Exercises for Andrej Karpathy's [Neural Networks: Zero To Hero](https://karpathy.ai/zero-to-hero.html) videos.\n",
    "\n",
    "This notebook is for Part 2: [The spelled-out intro to language modeling: building makemore](https://www.youtube.com/watch?v=PaCmpygFfXo)"
   ]
  },
  {
   "cell_type": "markdown",
   "id": "8efbe6c9",
   "metadata": {},
   "source": [
    "### Preamble: Load data\n",
    "\n",
    "Objective: Load a list of words from the file ```names.txt``` into a list variable named ```words```."
   ]
  },
  {
   "cell_type": "code",
   "execution_count": null,
   "id": "84fbbdb2",
   "metadata": {},
   "outputs": [],
   "source": [
    "# TODO: Add code to load names here.\n",
    "words = open(\"../names.txt\").read().splitlines()\n",
    "# END TODO"
   ]
  },
  {
   "cell_type": "code",
   "execution_count": null,
   "id": "20f107e8",
   "metadata": {},
   "outputs": [],
   "source": [
    "def test_words():\n",
    "    if not isinstance(words, list):\n",
    "        print(f\"Expected words to be a list\")\n",
    "        return\n",
    "    if (len_words := len(words)) != (expected_words := 32033):\n",
    "        print(f\"Expected {expected_words} elements in words, found {len_words} elements\")\n",
    "        return\n",
    "    if (zeroth_word := words[0]) != (expected_zeroth := \"emma\"):\n",
    "        print(f\"Expected zeroth word in words to be '{expected_zeroth}', was '{zeroth_word}'\")\n",
    "        return\n",
    "    if (final_word := words[-1]) != (expected_final := \"zzyzx\"):\n",
    "        print(f\"Expected final word in words to be '{expected_final}', was '{final_word}'\")\n",
    "        return\n",
    "    print(\"words looks good. Onwards!\")\n",
    "test_words()"
   ]
  },
  {
   "cell_type": "markdown",
   "id": "21b57253",
   "metadata": {},
   "source": [
    "### Step 1: Generate bigrams\n",
    "\n",
    "Objective: Build a list of bigrams (2-element tuples) "
   ]
  },
  {
   "cell_type": "code",
   "execution_count": null,
   "id": "df948542",
   "metadata": {},
   "outputs": [],
   "source": [
    "# TODO: Add code to build a list of bigrams here.\n",
    "bigrams = []\n",
    "\n",
    "# TODO Before releasing, find a way to hide solutions.\n",
    "\n",
    "for word in words:\n",
    "    bigrams.append(('.', word[0]))\n",
    "    for pos in range(len(word) - 1):\n",
    "        bigrams.append((word[pos], word[pos + 1]))\n",
    "    bigrams.append((word[-1], '.'))\n",
    "\n",
    "# END TODO"
   ]
  },
  {
   "cell_type": "code",
   "execution_count": null,
   "id": "68f2d0ff",
   "metadata": {},
   "outputs": [],
   "source": [
    "def test_bigrams():\n",
    "    if not isinstance(bigrams, list):\n",
    "        print(f\"Expected bigrams to be a list\")\n",
    "        return\n",
    "    if (start_m_ct := bigrams.count(('.', 'm'))) != (expected_start_m_ct := 2538):\n",
    "        print(f\"Expected {expected_start_m_ct} ('a', 'b') bigrams, found {start_m_ct}\")\n",
    "        return\n",
    "    if (ab_ct := bigrams.count(('a', 'b'))) != (expected_ab_ct := 541):\n",
    "        print(f\"Expected {expected_ab_ct} ('a', 'b') bigrams, found {ab_ct}\")\n",
    "        return\n",
    "    if (s_end_ct := bigrams.count(('s', '.'))) != (expected_s_end_ct := 1169):\n",
    "        print(f\"Expected {expected_s_end_ct} ('s', '.') bigrams, found {s_end_ct}\")\n",
    "        return\n",
    "    print(\"bigrams looks good. Onwards!\")\n",
    "test_bigrams()"
   ]
  },
  {
   "cell_type": "markdown",
   "id": "0189f31d",
   "metadata": {},
   "source": [
    "### Step 2: Map characters to indices\n",
    "\n",
    "Objective: Build a dict ```stoi``` where the key is a character from ```words`` (including '.' for start/end) and the value is a unique integer.\n",
    "(We'll use that integer to represent that character later)"
   ]
  },
  {
   "cell_type": "code",
   "execution_count": null,
   "id": "af093dc3",
   "metadata": {},
   "outputs": [],
   "source": [
    "# TODO: Add code to build a character to index map\n",
    "stoi = {}\n",
    "\n",
    "chars = set()\n",
    "for bigram in bigrams:\n",
    "    chars.add(bigram[0])\n",
    "    chars.add(bigram[1])\n",
    "stoi = { v:k for (k, v) in enumerate(sorted(chars))}\n",
    "print(f\"{stoi=}\")"
   ]
  },
  {
   "cell_type": "code",
   "execution_count": null,
   "id": "992357e3",
   "metadata": {},
   "outputs": [],
   "source": [
    "import string\n",
    "\n",
    "def test_stoi():\n",
    "    if not isinstance(stoi, dict):\n",
    "        print(f\"Expected stoi to be a dict\")\n",
    "        return\n",
    "    for c in string.ascii_lowercase:\n",
    "        if not c in stoi: \n",
    "            print(f\"Expected {c} to be in stoi\")\n",
    "            return\n",
    "    print(\"stoi looks good. Onwards!\")\n",
    "test_stoi()"
   ]
  },
  {
   "cell_type": "markdown",
   "id": "6bf979da",
   "metadata": {},
   "source": [
    "### Step 3: Map indices to characters\n",
    "\n",
    "Objective: Build a dict ```itos``` that has the same key-value pairs as ```stoi```, but with each pair's key and value swapped."
   ]
  },
  {
   "cell_type": "code",
   "execution_count": null,
   "id": "5adfc591",
   "metadata": {},
   "outputs": [],
   "source": [
    "### TODO: Add code here.\n",
    "itos = {}\n",
    "\n",
    "itos = {stoi[c]:c for c in stoi}\n",
    "print(f\"{itos=}\")\n",
    "\n",
    "### END TODO"
   ]
  },
  {
   "cell_type": "markdown",
   "id": "c0d8c99a",
   "metadata": {},
   "source": [
    "### Step 4: Count occurrences of each bigram\n",
    "\n",
    "Objective: Build a torch Tensor ```N``` where:\n",
    "* the row is the index of the first character in the bigram\n",
    "* the column is the index of the second character in the bigram\n",
    "* the value is the number of times that bigram occurs (represented as an integer)"
   ]
  },
  {
   "cell_type": "code",
   "execution_count": null,
   "id": "bf8d3eb0",
   "metadata": {},
   "outputs": [],
   "source": [
    "import torch\n",
    "\n",
    "### TODO: Add code here.\n",
    "N = torch.zeros(len(stoi), len(stoi), dtype=torch.int32)\n",
    "for bigram in bigrams:\n",
    "    i0 = stoi[bigram[0]]\n",
    "    i1 = stoi[bigram[1]]\n",
    "    N[i0][i1] += 1\n",
    "\n",
    "print(f\"{N=}\")\n",
    "### END TODO"
   ]
  },
  {
   "cell_type": "markdown",
   "id": "b8405865",
   "metadata": {},
   "source": [
    "### Step 5: Build probability distribution of bigrams\n",
    "\n",
    "Objective: Build a torch Tensor P where:\n",
    "* the row is the index of the first character in the bigram\n",
    "* the column is the index of the second character in the bigram\n",
    "* the value is the probability (as torch.float64) of the second character of a bigram being the one given by the column if its first is the character given by the row"
   ]
  },
  {
   "cell_type": "code",
   "execution_count": null,
   "id": "0c664dab",
   "metadata": {},
   "outputs": [],
   "source": [
    "P = torch.zeros(len(stoi), len(stoi), dtype=torch.float64)\n",
    "\n",
    "# TODO\n",
    "\n",
    "N_sum = N.sum(1, keepdim=True)\n",
    "print(f\"{N_sum=}\")\n",
    "P = N / N_sum\n",
    "print(f\"{P=}\")\n",
    "\n",
    "# END TODO"
   ]
  },
  {
   "cell_type": "code",
   "execution_count": null,
   "id": "1f37f8e1",
   "metadata": {},
   "outputs": [],
   "source": [
    "def test_P():\n",
    "    for row_idx in itos:\n",
    "        if abs(1.0 - (row_sum := P[row_idx].sum().item())) > 0.00001:\n",
    "            row_c = itos[row_idx]\n",
    "            print(f\"Expected the sum of row {row_idx} ({row_c}) to be 1.0, was {row_sum}\")\n",
    "            return\n",
    "    print(\"P looks good. Onwards!\")\n",
    "test_P()"
   ]
  }
 ],
 "metadata": {
  "kernelspec": {
   "display_name": "Python 3 (ipykernel)",
   "language": "python",
   "name": "python3"
  },
  "language_info": {
   "codemirror_mode": {
    "name": "ipython",
    "version": 3
   },
   "file_extension": ".py",
   "mimetype": "text/x-python",
   "name": "python",
   "nbconvert_exporter": "python",
   "pygments_lexer": "ipython3",
   "version": "3.10.13"
  }
 },
 "nbformat": 4,
 "nbformat_minor": 5
}
