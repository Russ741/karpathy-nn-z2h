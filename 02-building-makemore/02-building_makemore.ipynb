{
 "cells": [
  {
   "cell_type": "markdown",
   "id": "123d4646",
   "metadata": {},
   "source": [
    "Exercises for Andrej Karpathy's [Neural Networks: Zero To Hero](https://karpathy.ai/zero-to-hero.html) videos.\n",
    "\n",
    "This notebook is for Part 2: [The spelled-out intro to language modeling: building makemore](https://www.youtube.com/watch?v=PaCmpygFfXo)"
   ]
  },
  {
   "cell_type": "markdown",
   "id": "8efbe6c9",
   "metadata": {},
   "source": [
    "### Preamble: Load data\n",
    "\n",
    "Objective: Load a list of words from the file ```names.txt``` into a list variable named ```words```."
   ]
  },
  {
   "cell_type": "code",
   "execution_count": 1,
   "id": "84fbbdb2",
   "metadata": {},
   "outputs": [],
   "source": [
    "# TODO: Add code to load names here.\n",
    "words = open(\"../names.txt\").read().splitlines()\n",
    "# END TODO"
   ]
  },
  {
   "cell_type": "code",
   "execution_count": 3,
   "id": "20f107e8",
   "metadata": {},
   "outputs": [
    {
     "name": "stdout",
     "output_type": "stream",
     "text": [
      "words looks good. Onwards!\n"
     ]
    }
   ],
   "source": [
    "def test_words():\n",
    "    if not isinstance(words, list):\n",
    "        print(f\"Expected words to be a list\")\n",
    "        return\n",
    "    if (len_words := len(words)) != (expected_words := 32033):\n",
    "        print(f\"Expected {expected_words} elements in words, found {len_words} elements\")\n",
    "        return\n",
    "    if (zeroth_word := words[0]) != (expected_zeroth := \"emma\"):\n",
    "        print(f\"Expected zeroth word in words to be '{expected_zeroth}', was '{zeroth_word}'\")\n",
    "        return\n",
    "    if (final_word := words[-1]) != (expected_final := \"zzyzx\"):\n",
    "        print(f\"Expected final word in words to be '{expected_final}', was '{final_word}'\")\n",
    "        return\n",
    "    print(\"words looks good. Onwards!\")\n",
    "test_words()"
   ]
  },
  {
   "cell_type": "markdown",
   "id": "21b57253",
   "metadata": {},
   "source": [
    "### Step 1: Generate bigrams\n",
    "\n",
    "Objective: Build a list of bigrams (2-element tuples) "
   ]
  },
  {
   "cell_type": "code",
   "execution_count": 12,
   "id": "df948542",
   "metadata": {},
   "outputs": [],
   "source": [
    "# TODO: Add code to build a list of bigrams here.\n",
    "bigrams = []\n",
    "for word in words:\n",
    "    bigrams.append(('.', word[0]))\n",
    "    for pos in range(len(word) - 1):\n",
    "        bigrams.append((word[pos], word[pos + 1]))\n",
    "    bigrams.append((word[-1], '.'))\n",
    "# END TODO"
   ]
  },
  {
   "cell_type": "code",
   "execution_count": 16,
   "id": "68f2d0ff",
   "metadata": {},
   "outputs": [],
   "source": [
    "def test_bigrams():\n",
    "    if not isinstance(bigrams, list):\n",
    "        print(f\"Expected bigrams to be a list\")\n",
    "        return\n",
    "    if (start_m_ct := bigrams.count(('.', 'm'))) != (expected_start_m_ct := 2538):\n",
    "        print(f\"Expected {expected_start_m_ct} ('a', 'b') bigrams, found {start_m_ct}\")\n",
    "        return\n",
    "    if (ab_ct := bigrams.count(('a', 'b'))) != (expected_ab_ct := 541):\n",
    "        print(f\"Expected {expected_ab_ct} ('a', 'b') bigrams, found {ab_ct}\")\n",
    "        return\n",
    "    if (s_end_ct := bigrams.count(('s', '.'))) != (expected_s_end_ct := 1169):\n",
    "        print(f\"Expected {expected_s_end_ct} ('s', '.') bigrams, found {s_end_ct}\")\n",
    "        return\n",
    "    print(\"bigrams looks good. Onwards!\")\n",
    "test_bigrams()"
   ]
  }
 ],
 "metadata": {
  "kernelspec": {
   "display_name": "Python 3 (ipykernel)",
   "language": "python",
   "name": "python3"
  },
  "language_info": {
   "codemirror_mode": {
    "name": "ipython",
    "version": 3
   },
   "file_extension": ".py",
   "mimetype": "text/x-python",
   "name": "python",
   "nbconvert_exporter": "python",
   "pygments_lexer": "ipython3",
   "version": "3.10.13"
  }
 },
 "nbformat": 4,
 "nbformat_minor": 5
}
